{
 "cells": [
  {
   "cell_type": "code",
   "execution_count": null,
   "id": "3a2f058f-4db1-4caa-b55d-b35daec6bfa1",
   "metadata": {},
   "outputs": [
    {
     "name": "stdout",
     "output_type": "stream",
     "text": [
      "Requirement already satisfied: langchain_community in /home/tuna/.local/share/mise/installs/python/latest/lib/python3.13/site-packages (0.3.5)\n",
      "Requirement already satisfied: PyYAML>=5.3 in /home/tuna/.local/share/mise/installs/python/latest/lib/python3.13/site-packages (from langchain_community) (6.0.2)\n",
      "Requirement already satisfied: SQLAlchemy<2.0.36,>=1.4 in /home/tuna/.local/share/mise/installs/python/latest/lib/python3.13/site-packages (from langchain_community) (2.0.35)\n",
      "Requirement already satisfied: aiohttp<4.0.0,>=3.8.3 in /home/tuna/.local/share/mise/installs/python/latest/lib/python3.13/site-packages (from langchain_community) (3.10.10)\n",
      "Requirement already satisfied: dataclasses-json<0.7,>=0.5.7 in /home/tuna/.local/share/mise/installs/python/latest/lib/python3.13/site-packages (from langchain_community) (0.6.7)\n",
      "Requirement already satisfied: httpx-sse<0.5.0,>=0.4.0 in /home/tuna/.local/share/mise/installs/python/latest/lib/python3.13/site-packages (from langchain_community) (0.4.0)\n",
      "Requirement already satisfied: langchain<0.4.0,>=0.3.6 in /home/tuna/.local/share/mise/installs/python/latest/lib/python3.13/site-packages (from langchain_community) (0.3.7)\n",
      "Requirement already satisfied: langchain-core<0.4.0,>=0.3.15 in /home/tuna/.local/share/mise/installs/python/latest/lib/python3.13/site-packages (from langchain_community) (0.3.15)\n",
      "Requirement already satisfied: langsmith<0.2.0,>=0.1.125 in /home/tuna/.local/share/mise/installs/python/latest/lib/python3.13/site-packages (from langchain_community) (0.1.139)\n",
      "Requirement already satisfied: numpy<2.0.0,>=1.26.0 in /home/tuna/.local/share/mise/installs/python/latest/lib/python3.13/site-packages (from langchain_community) (1.26.4)\n",
      "Requirement already satisfied: pydantic-settings<3.0.0,>=2.4.0 in /home/tuna/.local/share/mise/installs/python/latest/lib/python3.13/site-packages (from langchain_community) (2.6.1)\n",
      "Requirement already satisfied: requests<3,>=2 in /home/tuna/.local/share/mise/installs/python/latest/lib/python3.13/site-packages (from langchain_community) (2.32.3)\n",
      "Requirement already satisfied: tenacity!=8.4.0,<10,>=8.1.0 in /home/tuna/.local/share/mise/installs/python/latest/lib/python3.13/site-packages (from langchain_community) (8.5.0)\n",
      "Requirement already satisfied: aiohappyeyeballs>=2.3.0 in /home/tuna/.local/share/mise/installs/python/latest/lib/python3.13/site-packages (from aiohttp<4.0.0,>=3.8.3->langchain_community) (2.4.3)\n",
      "Requirement already satisfied: aiosignal>=1.1.2 in /home/tuna/.local/share/mise/installs/python/latest/lib/python3.13/site-packages (from aiohttp<4.0.0,>=3.8.3->langchain_community) (1.3.1)\n",
      "Requirement already satisfied: attrs>=17.3.0 in /home/tuna/.local/share/mise/installs/python/latest/lib/python3.13/site-packages (from aiohttp<4.0.0,>=3.8.3->langchain_community) (24.2.0)\n",
      "Requirement already satisfied: frozenlist>=1.1.1 in /home/tuna/.local/share/mise/installs/python/latest/lib/python3.13/site-packages (from aiohttp<4.0.0,>=3.8.3->langchain_community) (1.5.0)\n",
      "Requirement already satisfied: multidict<7.0,>=4.5 in /home/tuna/.local/share/mise/installs/python/latest/lib/python3.13/site-packages (from aiohttp<4.0.0,>=3.8.3->langchain_community) (6.1.0)\n",
      "Requirement already satisfied: yarl<2.0,>=1.12.0 in /home/tuna/.local/share/mise/installs/python/latest/lib/python3.13/site-packages (from aiohttp<4.0.0,>=3.8.3->langchain_community) (1.17.1)\n",
      "Requirement already satisfied: marshmallow<4.0.0,>=3.18.0 in /home/tuna/.local/share/mise/installs/python/latest/lib/python3.13/site-packages (from dataclasses-json<0.7,>=0.5.7->langchain_community) (3.23.1)\n",
      "Requirement already satisfied: typing-inspect<1,>=0.4.0 in /home/tuna/.local/share/mise/installs/python/latest/lib/python3.13/site-packages (from dataclasses-json<0.7,>=0.5.7->langchain_community) (0.9.0)\n",
      "Requirement already satisfied: langchain-text-splitters<0.4.0,>=0.3.0 in /home/tuna/.local/share/mise/installs/python/latest/lib/python3.13/site-packages (from langchain<0.4.0,>=0.3.6->langchain_community) (0.3.2)\n",
      "Requirement already satisfied: pydantic<3.0.0,>=2.7.4 in /home/tuna/.local/share/mise/installs/python/latest/lib/python3.13/site-packages (from langchain<0.4.0,>=0.3.6->langchain_community) (2.9.2)\n",
      "Requirement already satisfied: jsonpatch<2.0,>=1.33 in /home/tuna/.local/share/mise/installs/python/latest/lib/python3.13/site-packages (from langchain-core<0.4.0,>=0.3.15->langchain_community) (1.33)\n",
      "Requirement already satisfied: packaging<25,>=23.2 in /home/tuna/.local/share/mise/installs/python/latest/lib/python3.13/site-packages (from langchain-core<0.4.0,>=0.3.15->langchain_community) (24.1)\n",
      "Requirement already satisfied: typing-extensions>=4.7 in /home/tuna/.local/share/mise/installs/python/latest/lib/python3.13/site-packages (from langchain-core<0.4.0,>=0.3.15->langchain_community) (4.12.2)\n",
      "Requirement already satisfied: httpx<1,>=0.23.0 in /home/tuna/.local/share/mise/installs/python/latest/lib/python3.13/site-packages (from langsmith<0.2.0,>=0.1.125->langchain_community) (0.27.2)\n",
      "Requirement already satisfied: orjson<4.0.0,>=3.9.14 in /home/tuna/.local/share/mise/installs/python/latest/lib/python3.13/site-packages (from langsmith<0.2.0,>=0.1.125->langchain_community) (3.10.11)\n",
      "Requirement already satisfied: requests-toolbelt<2.0.0,>=1.0.0 in /home/tuna/.local/share/mise/installs/python/latest/lib/python3.13/site-packages (from langsmith<0.2.0,>=0.1.125->langchain_community) (1.0.0)\n",
      "Requirement already satisfied: python-dotenv>=0.21.0 in /home/tuna/.local/share/mise/installs/python/latest/lib/python3.13/site-packages (from pydantic-settings<3.0.0,>=2.4.0->langchain_community) (1.0.1)\n",
      "Requirement already satisfied: charset-normalizer<4,>=2 in /home/tuna/.local/share/mise/installs/python/latest/lib/python3.13/site-packages (from requests<3,>=2->langchain_community) (3.4.0)\n",
      "Requirement already satisfied: idna<4,>=2.5 in /home/tuna/.local/share/mise/installs/python/latest/lib/python3.13/site-packages (from requests<3,>=2->langchain_community) (3.10)\n",
      "Requirement already satisfied: urllib3<3,>=1.21.1 in /home/tuna/.local/share/mise/installs/python/latest/lib/python3.13/site-packages (from requests<3,>=2->langchain_community) (2.2.3)\n",
      "Requirement already satisfied: certifi>=2017.4.17 in /home/tuna/.local/share/mise/installs/python/latest/lib/python3.13/site-packages (from requests<3,>=2->langchain_community) (2024.8.30)\n",
      "Requirement already satisfied: anyio in /home/tuna/.local/share/mise/installs/python/latest/lib/python3.13/site-packages (from httpx<1,>=0.23.0->langsmith<0.2.0,>=0.1.125->langchain_community) (4.6.2.post1)\n",
      "Requirement already satisfied: httpcore==1.* in /home/tuna/.local/share/mise/installs/python/latest/lib/python3.13/site-packages (from httpx<1,>=0.23.0->langsmith<0.2.0,>=0.1.125->langchain_community) (1.0.6)\n",
      "Requirement already satisfied: sniffio in /home/tuna/.local/share/mise/installs/python/latest/lib/python3.13/site-packages (from httpx<1,>=0.23.0->langsmith<0.2.0,>=0.1.125->langchain_community) (1.3.1)\n",
      "Requirement already satisfied: h11<0.15,>=0.13 in /home/tuna/.local/share/mise/installs/python/latest/lib/python3.13/site-packages (from httpcore==1.*->httpx<1,>=0.23.0->langsmith<0.2.0,>=0.1.125->langchain_community) (0.14.0)\n",
      "Requirement already satisfied: jsonpointer>=1.9 in /home/tuna/.local/share/mise/installs/python/latest/lib/python3.13/site-packages (from jsonpatch<2.0,>=1.33->langchain-core<0.4.0,>=0.3.15->langchain_community) (3.0.0)\n",
      "Requirement already satisfied: annotated-types>=0.6.0 in /home/tuna/.local/share/mise/installs/python/latest/lib/python3.13/site-packages (from pydantic<3.0.0,>=2.7.4->langchain<0.4.0,>=0.3.6->langchain_community) (0.7.0)\n",
      "Requirement already satisfied: pydantic-core==2.23.4 in /home/tuna/.local/share/mise/installs/python/latest/lib/python3.13/site-packages (from pydantic<3.0.0,>=2.7.4->langchain<0.4.0,>=0.3.6->langchain_community) (2.23.4)\n",
      "Requirement already satisfied: mypy-extensions>=0.3.0 in /home/tuna/.local/share/mise/installs/python/latest/lib/python3.13/site-packages (from typing-inspect<1,>=0.4.0->dataclasses-json<0.7,>=0.5.7->langchain_community) (1.0.0)\n",
      "Requirement already satisfied: propcache>=0.2.0 in /home/tuna/.local/share/mise/installs/python/latest/lib/python3.13/site-packages (from yarl<2.0,>=1.12.0->aiohttp<4.0.0,>=3.8.3->langchain_community) (0.2.0)\n",
      "Note: you may need to restart the kernel to use updated packages.\n",
      "Requirement already satisfied: langchain-ollama in /home/tuna/.local/share/mise/installs/python/latest/lib/python3.13/site-packages (0.2.0)\n",
      "Requirement already satisfied: langchain-core<0.4.0,>=0.3.0 in /home/tuna/.local/share/mise/installs/python/latest/lib/python3.13/site-packages (from langchain-ollama) (0.3.15)\n",
      "Requirement already satisfied: ollama<1,>=0.3.0 in /home/tuna/.local/share/mise/installs/python/latest/lib/python3.13/site-packages (from langchain-ollama) (0.3.3)\n",
      "Requirement already satisfied: PyYAML>=5.3 in /home/tuna/.local/share/mise/installs/python/latest/lib/python3.13/site-packages (from langchain-core<0.4.0,>=0.3.0->langchain-ollama) (6.0.2)\n",
      "Requirement already satisfied: jsonpatch<2.0,>=1.33 in /home/tuna/.local/share/mise/installs/python/latest/lib/python3.13/site-packages (from langchain-core<0.4.0,>=0.3.0->langchain-ollama) (1.33)\n",
      "Requirement already satisfied: langsmith<0.2.0,>=0.1.125 in /home/tuna/.local/share/mise/installs/python/latest/lib/python3.13/site-packages (from langchain-core<0.4.0,>=0.3.0->langchain-ollama) (0.1.139)\n",
      "Requirement already satisfied: packaging<25,>=23.2 in /home/tuna/.local/share/mise/installs/python/latest/lib/python3.13/site-packages (from langchain-core<0.4.0,>=0.3.0->langchain-ollama) (24.1)\n",
      "Requirement already satisfied: pydantic<3.0.0,>=2.7.4 in /home/tuna/.local/share/mise/installs/python/latest/lib/python3.13/site-packages (from langchain-core<0.4.0,>=0.3.0->langchain-ollama) (2.9.2)\n",
      "Requirement already satisfied: tenacity!=8.4.0,<10.0.0,>=8.1.0 in /home/tuna/.local/share/mise/installs/python/latest/lib/python3.13/site-packages (from langchain-core<0.4.0,>=0.3.0->langchain-ollama) (8.5.0)\n",
      "Requirement already satisfied: typing-extensions>=4.7 in /home/tuna/.local/share/mise/installs/python/latest/lib/python3.13/site-packages (from langchain-core<0.4.0,>=0.3.0->langchain-ollama) (4.12.2)\n",
      "Requirement already satisfied: httpx<0.28.0,>=0.27.0 in /home/tuna/.local/share/mise/installs/python/latest/lib/python3.13/site-packages (from ollama<1,>=0.3.0->langchain-ollama) (0.27.2)\n",
      "Requirement already satisfied: anyio in /home/tuna/.local/share/mise/installs/python/latest/lib/python3.13/site-packages (from httpx<0.28.0,>=0.27.0->ollama<1,>=0.3.0->langchain-ollama) (4.6.2.post1)\n",
      "Requirement already satisfied: certifi in /home/tuna/.local/share/mise/installs/python/latest/lib/python3.13/site-packages (from httpx<0.28.0,>=0.27.0->ollama<1,>=0.3.0->langchain-ollama) (2024.8.30)\n",
      "Requirement already satisfied: httpcore==1.* in /home/tuna/.local/share/mise/installs/python/latest/lib/python3.13/site-packages (from httpx<0.28.0,>=0.27.0->ollama<1,>=0.3.0->langchain-ollama) (1.0.6)\n",
      "Requirement already satisfied: idna in /home/tuna/.local/share/mise/installs/python/latest/lib/python3.13/site-packages (from httpx<0.28.0,>=0.27.0->ollama<1,>=0.3.0->langchain-ollama) (3.10)\n",
      "Requirement already satisfied: sniffio in /home/tuna/.local/share/mise/installs/python/latest/lib/python3.13/site-packages (from httpx<0.28.0,>=0.27.0->ollama<1,>=0.3.0->langchain-ollama) (1.3.1)\n",
      "Requirement already satisfied: h11<0.15,>=0.13 in /home/tuna/.local/share/mise/installs/python/latest/lib/python3.13/site-packages (from httpcore==1.*->httpx<0.28.0,>=0.27.0->ollama<1,>=0.3.0->langchain-ollama) (0.14.0)\n",
      "Requirement already satisfied: jsonpointer>=1.9 in /home/tuna/.local/share/mise/installs/python/latest/lib/python3.13/site-packages (from jsonpatch<2.0,>=1.33->langchain-core<0.4.0,>=0.3.0->langchain-ollama) (3.0.0)\n",
      "Requirement already satisfied: orjson<4.0.0,>=3.9.14 in /home/tuna/.local/share/mise/installs/python/latest/lib/python3.13/site-packages (from langsmith<0.2.0,>=0.1.125->langchain-core<0.4.0,>=0.3.0->langchain-ollama) (3.10.11)\n",
      "Requirement already satisfied: requests<3,>=2 in /home/tuna/.local/share/mise/installs/python/latest/lib/python3.13/site-packages (from langsmith<0.2.0,>=0.1.125->langchain-core<0.4.0,>=0.3.0->langchain-ollama) (2.32.3)\n",
      "Requirement already satisfied: requests-toolbelt<2.0.0,>=1.0.0 in /home/tuna/.local/share/mise/installs/python/latest/lib/python3.13/site-packages (from langsmith<0.2.0,>=0.1.125->langchain-core<0.4.0,>=0.3.0->langchain-ollama) (1.0.0)\n",
      "Requirement already satisfied: annotated-types>=0.6.0 in /home/tuna/.local/share/mise/installs/python/latest/lib/python3.13/site-packages (from pydantic<3.0.0,>=2.7.4->langchain-core<0.4.0,>=0.3.0->langchain-ollama) (0.7.0)\n",
      "Requirement already satisfied: pydantic-core==2.23.4 in /home/tuna/.local/share/mise/installs/python/latest/lib/python3.13/site-packages (from pydantic<3.0.0,>=2.7.4->langchain-core<0.4.0,>=0.3.0->langchain-ollama) (2.23.4)\n",
      "Requirement already satisfied: charset-normalizer<4,>=2 in /home/tuna/.local/share/mise/installs/python/latest/lib/python3.13/site-packages (from requests<3,>=2->langsmith<0.2.0,>=0.1.125->langchain-core<0.4.0,>=0.3.0->langchain-ollama) (3.4.0)\n",
      "Requirement already satisfied: urllib3<3,>=1.21.1 in /home/tuna/.local/share/mise/installs/python/latest/lib/python3.13/site-packages (from requests<3,>=2->langsmith<0.2.0,>=0.1.125->langchain-core<0.4.0,>=0.3.0->langchain-ollama) (2.2.3)\n",
      "Note: you may need to restart the kernel to use updated packages.\n",
      "Collecting chromadb\n",
      "  Using cached chromadb-0.5.17-py3-none-any.whl.metadata (6.8 kB)\n",
      "Collecting build>=1.0.3 (from chromadb)\n",
      "  Using cached build-1.2.2.post1-py3-none-any.whl.metadata (6.5 kB)\n",
      "Requirement already satisfied: pydantic>=1.9 in /home/tuna/.local/share/mise/installs/python/latest/lib/python3.13/site-packages (from chromadb) (2.9.2)\n",
      "Collecting chroma-hnswlib==0.7.6 (from chromadb)\n",
      "  Using cached chroma_hnswlib-0.7.6.tar.gz (32 kB)\n",
      "  Installing build dependencies ... \u001b[?25ldone\n",
      "\u001b[?25h  Getting requirements to build wheel ... \u001b[?25ldone\n"
     ]
    }
   ],
   "source": [
    "%pip install langchain_community\n",
    "%pip install -U langchain-ollama\n",
    "\n",
    "%pip install chromadb\n",
    "%pip install bs4"
   ]
  },
  {
   "cell_type": "code",
   "execution_count": 3,
   "id": "633d8f3a-96ef-41f9-a33b-468d344b56c0",
   "metadata": {},
   "outputs": [],
   "source": [
    "import os\n",
    "import bs4\n",
    "from langchain_ollama import OllamaLLM, OllamaEmbeddings\n",
    "from langchain_community.document_loaders import WebBaseLoader\n",
    "#from langchain_community.embeddings import OllamaEmbeddings\n",
    "from dotenv import load_dotenv\n",
    "from langchain.document_loaders import TextLoader\n",
    "from langchain.text_splitter import RecursiveCharacterTextSplitter\n",
    "from langchain.vectorstores import Chroma\n",
    "from langchain.chains import create_retrieval_chain\n",
    "from langchain import hub\n",
    "from langchain.chains.combine_documents import create_stuff_documents_chain"
   ]
  },
  {
   "cell_type": "code",
   "execution_count": 2,
   "id": "e6e31398-471e-45a7-bc13-6b989ae2adb7",
   "metadata": {},
   "outputs": [],
   "source": [
    "# New OS parameter to avoid warnings.  \n",
    "# This will not have a material impact on your code, but prevents warnings from appearing related to new LangChain features.\n",
    "import os\n",
    "os.environ['USER_AGENT'] = 'RAGUserAgent'"
   ]
  },
  {
   "cell_type": "code",
   "execution_count": 4,
   "id": "281d9a13-b0dc-4337-8298-47b08c6ea142",
   "metadata": {},
   "outputs": [],
   "source": [
    "llm = OllamaLLM(model=\"llama3\", base_url=\"http://127.0.0.1:11434\")"
   ]
  },
  {
   "cell_type": "code",
   "execution_count": 5,
   "id": "41cc442e-6eff-463e-8453-3d68767fa9b1",
   "metadata": {},
   "outputs": [
    {
     "ename": "NameError",
     "evalue": "name 'OllamaEmbeddings' is not defined",
     "output_type": "error",
     "traceback": [
      "\u001b[0;31m---------------------------------------------------------------------------\u001b[0m",
      "\u001b[0;31mNameError\u001b[0m                                 Traceback (most recent call last)",
      "Cell \u001b[0;32mIn[5], line 1\u001b[0m\n\u001b[0;32m----> 1\u001b[0m embed_model \u001b[38;5;241m=\u001b[39m \u001b[43mOllamaEmbeddings\u001b[49m(\n\u001b[1;32m      2\u001b[0m     model\u001b[38;5;241m=\u001b[39m\u001b[38;5;124m\"\u001b[39m\u001b[38;5;124mllama3\u001b[39m\u001b[38;5;124m\"\u001b[39m,\n\u001b[1;32m      3\u001b[0m     base_url\u001b[38;5;241m=\u001b[39m\u001b[38;5;124m'\u001b[39m\u001b[38;5;124mhttp://127.0.0.1:11434\u001b[39m\u001b[38;5;124m'\u001b[39m\n\u001b[1;32m      4\u001b[0m )\n",
      "\u001b[0;31mNameError\u001b[0m: name 'OllamaEmbeddings' is not defined"
     ]
    }
   ],
   "source": [
    "embed_model = OllamaEmbeddings(\n",
    "    model=\"llama3\",\n",
    "    base_url='http://127.0.0.1:11434'\n",
    ")"
   ]
  },
  {
   "cell_type": "code",
   "execution_count": 30,
   "id": "1c49936b-f31c-418e-a385-d61ad3f3eeab",
   "metadata": {},
   "outputs": [
    {
     "ename": "NameError",
     "evalue": "name 'bs4' is not defined",
     "output_type": "error",
     "traceback": [
      "\u001b[0;31m---------------------------------------------------------------------------\u001b[0m",
      "\u001b[0;31mNameError\u001b[0m                                 Traceback (most recent call last)",
      "Cell \u001b[0;32mIn[30], line 5\u001b[0m\n\u001b[1;32m      1\u001b[0m \u001b[38;5;66;03m# Load Documents\u001b[39;00m\n\u001b[1;32m      2\u001b[0m loader \u001b[38;5;241m=\u001b[39m WebBaseLoader(\n\u001b[1;32m      3\u001b[0m     web_paths\u001b[38;5;241m=\u001b[39m(\u001b[38;5;124m\"\u001b[39m\u001b[38;5;124mhttps://kbourne.github.io/chapter1.html\u001b[39m\u001b[38;5;124m\"\u001b[39m,), \n\u001b[1;32m      4\u001b[0m     bs_kwargs\u001b[38;5;241m=\u001b[39m\u001b[38;5;28mdict\u001b[39m(\n\u001b[0;32m----> 5\u001b[0m         parse_only\u001b[38;5;241m=\u001b[39m\u001b[43mbs4\u001b[49m\u001b[38;5;241m.\u001b[39mSoupStrainer(\n\u001b[1;32m      6\u001b[0m             class_\u001b[38;5;241m=\u001b[39m(\u001b[38;5;124m\"\u001b[39m\u001b[38;5;124mpost-content\u001b[39m\u001b[38;5;124m\"\u001b[39m, \u001b[38;5;124m\"\u001b[39m\u001b[38;5;124mpost-title\u001b[39m\u001b[38;5;124m\"\u001b[39m, \u001b[38;5;124m\"\u001b[39m\u001b[38;5;124mpost-header\u001b[39m\u001b[38;5;124m\"\u001b[39m)\n\u001b[1;32m      7\u001b[0m         )\n\u001b[1;32m      8\u001b[0m     ),\n\u001b[1;32m      9\u001b[0m )\n\u001b[1;32m     10\u001b[0m docs \u001b[38;5;241m=\u001b[39m loader\u001b[38;5;241m.\u001b[39mload()\n",
      "\u001b[0;31mNameError\u001b[0m: name 'bs4' is not defined"
     ]
    }
   ],
   "source": [
    "# Load Documents\n",
    "loader = WebBaseLoader(\n",
    "    web_paths=(\"https://kbourne.github.io/chapter1.html\",), \n",
    "    bs_kwargs=dict(\n",
    "        parse_only=bs4.SoupStrainer(\n",
    "            class_=(\"post-content\", \"post-title\", \"post-header\")\n",
    "        )\n",
    "    ),\n",
    ")\n",
    "docs = loader.load()"
   ]
  },
  {
   "cell_type": "code",
   "execution_count": 20,
   "id": "66beeb27-6a02-4c06-bca3-a310b10d8a5f",
   "metadata": {},
   "outputs": [
    {
     "ename": "NameError",
     "evalue": "name 'docs' is not defined",
     "output_type": "error",
     "traceback": [
      "\u001b[0;31m---------------------------------------------------------------------------\u001b[0m",
      "\u001b[0;31mNameError\u001b[0m                                 Traceback (most recent call last)",
      "Cell \u001b[0;32mIn[20], line 5\u001b[0m\n\u001b[1;32m      2\u001b[0m embeddings \u001b[38;5;241m=\u001b[39m OllamaEmbeddings(base_url\u001b[38;5;241m=\u001b[39m\u001b[38;5;124m\"\u001b[39m\u001b[38;5;124mhttp://127.0.0.1:11434\u001b[39m\u001b[38;5;124m\"\u001b[39m)\n\u001b[1;32m      4\u001b[0m \u001b[38;5;66;03m# Split the documents\u001b[39;00m\n\u001b[0;32m----> 5\u001b[0m splits \u001b[38;5;241m=\u001b[39m text_splitter\u001b[38;5;241m.\u001b[39msplit_documents(\u001b[43mdocs\u001b[49m)\n",
      "\u001b[0;31mNameError\u001b[0m: name 'docs' is not defined"
     ]
    }
   ],
   "source": [
    "text_splitter = RecursiveCharacterTextSplitter(chunk_size=1000, chunk_overlap=200)\n",
    "embeddings = OllamaEmbeddings(base_url=\"http://127.0.0.1:11434\")\n",
    "\n",
    "# Split the documents\n",
    "splits = text_splitter.split_documents(docs)\n"
   ]
  },
  {
   "cell_type": "code",
   "execution_count": null,
   "id": "0dcf632c-c336-4726-8e09-9456fe46cf0b",
   "metadata": {},
   "outputs": [],
   "source": []
  }
 ],
 "metadata": {
  "kernelspec": {
   "display_name": "Python 3 (ipykernel)",
   "language": "python",
   "name": "python3"
  },
  "language_info": {
   "codemirror_mode": {
    "name": "ipython",
    "version": 3
   },
   "file_extension": ".py",
   "mimetype": "text/x-python",
   "name": "python",
   "nbconvert_exporter": "python",
   "pygments_lexer": "ipython3",
   "version": "3.13.0"
  }
 },
 "nbformat": 4,
 "nbformat_minor": 5
}
